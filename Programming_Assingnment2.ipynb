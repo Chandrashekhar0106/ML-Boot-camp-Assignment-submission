{
  "nbformat": 4,
  "nbformat_minor": 0,
  "metadata": {
    "colab": {
      "provenance": []
    },
    "kernelspec": {
      "name": "python3",
      "display_name": "Python 3"
    },
    "language_info": {
      "name": "python"
    }
  },
  "cells": [
    {
      "cell_type": "code",
      "execution_count": 19,
      "metadata": {
        "colab": {
          "base_uri": "https://localhost:8080/"
        },
        "id": "MmNkkXYnWURI",
        "outputId": "984c2cab-9042-4ad5-c447-1afbe235cabb"
      },
      "outputs": [
        {
          "output_type": "stream",
          "name": "stdout",
          "text": [
            "Please enter the speed of car in Kilometre as a unit: 5\n",
            "The speed value of car in Miles:  3.106855\n"
          ]
        }
      ],
      "source": [
        "## 1 Write a Python program to convert kilometers to miles?\n",
        "kilometre_1 = float (input (\"Please enter the speed of car in Kilometre as a unit: \"))  \n",
        "conversion_ratio_1 = 0.621371  \n",
        "miles_1 = kilometre_1 * conversion_ratio_1  \n",
        "print (\"The speed value of car in Miles: \", miles_1) "
      ]
    },
    {
      "cell_type": "code",
      "source": [
        "## 2. Write a Python program to convert Celsius to Fahrenheit?\n",
        "\n",
        "celsius = int(input(\"Enter the temp\"))\n",
        "fahrenheit = (celsius * 1.8) + 32\n",
        "print(str(celsius )+ \" degree Celsius is equal to \" + str(fahrenheit )+ \" degree Fahrenheit.\")\n"
      ],
      "metadata": {
        "colab": {
          "base_uri": "https://localhost:8080/"
        },
        "id": "c7rTiR7ZW-WR",
        "outputId": "2cd98be4-cc98-41a1-9385-48c578e2df6e"
      },
      "execution_count": 21,
      "outputs": [
        {
          "output_type": "stream",
          "name": "stdout",
          "text": [
            "Enter the temp50\n",
            "50 degree Celsius is equal to 122.0 degree Fahrenheit.\n"
          ]
        }
      ]
    },
    {
      "cell_type": "code",
      "source": [
        "## 3 Write a Python program to display calendar?\n",
        "import calendar\n",
        "yy = int(input(\"Enter year: \"))\n",
        "mm = int(input(\"Enter month: \"))\n",
        "print(calendar.month(yy, mm))\n"
      ],
      "metadata": {
        "colab": {
          "base_uri": "https://localhost:8080/"
        },
        "id": "lFQ0RTOwXY9D",
        "outputId": "0a79511f-9d85-4477-8b9c-8da44181c08d"
      },
      "execution_count": 22,
      "outputs": [
        {
          "output_type": "stream",
          "name": "stdout",
          "text": [
            "Enter year: 2023\n",
            "Enter month: 5\n",
            "      May 2023\n",
            "Mo Tu We Th Fr Sa Su\n",
            " 1  2  3  4  5  6  7\n",
            " 8  9 10 11 12 13 14\n",
            "15 16 17 18 19 20 21\n",
            "22 23 24 25 26 27 28\n",
            "29 30 31\n",
            "\n"
          ]
        }
      ]
    },
    {
      "cell_type": "code",
      "source": [
        "## 4 Write a Python program to solve quadratic equation?\n",
        "\n",
        "import cmath\n",
        "a = int(input(\"Enter no 1\"))\n",
        "b = int(input(\"Enter no 2\"))\n",
        "c = int(input(\"Enter no 3\"))\n",
        "d = (b**2) - (4*a*c)\n",
        "sol1 = (-b-cmath.sqrt(d))/(2*a)\n",
        "sol2 = (-b+cmath.sqrt(d))/(2*a)\n",
        "\n",
        "print('The solution are {0} and {1}'.format(sol1,sol2))"
      ],
      "metadata": {
        "colab": {
          "base_uri": "https://localhost:8080/"
        },
        "id": "GMBeFegXYsUN",
        "outputId": "91b979b3-b2f6-47e5-a395-4580ebed0ed5"
      },
      "execution_count": 24,
      "outputs": [
        {
          "output_type": "stream",
          "name": "stdout",
          "text": [
            "Enter no 15\n",
            "Enter no 26\n",
            "Enter no 37\n",
            "The solution are (-0.6-1.0198039027185568j) and (-0.6+1.0198039027185568j)\n"
          ]
        }
      ]
    },
    {
      "cell_type": "code",
      "source": [
        "## 5 Write a Python program to swap two variables without temp variable?\n",
        "\n",
        "x = int(input(\"Enter no 1\"))\n",
        "y = int(input(\"Enter no 2\"))\n",
        " \n",
        "print (\"Before swapping: \")\n",
        "print(\"Value of x : \", x, \" and y : \", y)\n",
        " \n",
        "# code to swap 'x' and 'y'\n",
        "x, y = y, x\n",
        " \n",
        "print (\"After swapping: \")\n",
        "print(\"Value of x : \", x, \" and y : \", y)"
      ],
      "metadata": {
        "colab": {
          "base_uri": "https://localhost:8080/"
        },
        "id": "8QLPEaULaFpM",
        "outputId": "026f836a-34bb-4a8f-f7fa-24485d311d69"
      },
      "execution_count": 26,
      "outputs": [
        {
          "output_type": "stream",
          "name": "stdout",
          "text": [
            "Enter no 18\n",
            "Enter no 29\n",
            "Before swapping: \n",
            "Value of x :  8  and y :  9\n",
            "After swapping: \n",
            "Value of x :  9  and y :  8\n"
          ]
        }
      ]
    }
  ]
}