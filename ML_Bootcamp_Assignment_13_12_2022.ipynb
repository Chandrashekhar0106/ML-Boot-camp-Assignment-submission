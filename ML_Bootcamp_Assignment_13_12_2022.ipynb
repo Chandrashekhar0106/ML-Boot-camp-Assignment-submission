{
  "cells": [
    {
      "cell_type": "markdown",
      "id": "52102b1c-6a66-4f82-9a6b-3737881e9502",
      "metadata": {
        "id": "52102b1c-6a66-4f82-9a6b-3737881e9502"
      },
      "source": [
        "\n",
        "1 WAP to accept two numbers from the user and display their sum\n"
      ]
    },
    {
      "cell_type": "code",
      "execution_count": null,
      "id": "f815a0ef-f5d7-4794-b052-2c82089a3a11",
      "metadata": {
        "id": "f815a0ef-f5d7-4794-b052-2c82089a3a11"
      },
      "outputs": [],
      "source": [
        "a = int(input(\" enter number 1 \"))\n",
        "b = int(input(\"enter number 2\"))\n",
        "c= a+b\n",
        "print(\" The sum of {} and {} is {}\".format(a,b,c) )"
      ]
    },
    {
      "cell_type": "markdown",
      "id": "227a42a0-608c-4433-b557-c04f9d6e5539",
      "metadata": {
        "id": "227a42a0-608c-4433-b557-c04f9d6e5539"
      },
      "source": [
        "2 WAP to accept radius of a Circle from the user and calculate area and circumference\n"
      ]
    },
    {
      "cell_type": "code",
      "execution_count": null,
      "id": "459fd979-1d0c-4994-8ac2-039d30566c18",
      "metadata": {
        "id": "459fd979-1d0c-4994-8ac2-039d30566c18",
        "outputId": "e4e86bf4-bb9a-4446-9b58-d2760048683d"
      },
      "outputs": [
        {
          "name": "stdin",
          "output_type": "stream",
          "text": [
            " enter the radius 5\n"
          ]
        },
        {
          "name": "stdout",
          "output_type": "stream",
          "text": [
            " The area of circle for radius 5.0 is 78.5 and circumference is 31.400000000000002\n"
          ]
        }
      ],
      "source": [
        " \n",
        "radius= float(input(\" enter the radius\"))\n",
        "pi=3.14\n",
        "area= pi*radius**2\n",
        "circumference=2*pi*radius\n",
        "print(\" The area of circle for radius {} is {} and circumference is {}\".format(radius,area,circumference))"
      ]
    },
    {
      "cell_type": "markdown",
      "id": "68d0a303-5941-4ddf-828a-b346248fd944",
      "metadata": {
        "id": "68d0a303-5941-4ddf-828a-b346248fd944"
      },
      "source": [
        "3 WAP to accept roll number , grade and percentage as input from the user and display it back"
      ]
    },
    {
      "cell_type": "code",
      "execution_count": null,
      "id": "da2f3458-9897-40db-b7d7-34284179c0dd",
      "metadata": {
        "id": "da2f3458-9897-40db-b7d7-34284179c0dd",
        "outputId": "221e83b3-722e-4ee4-aacf-b08fd8f01325"
      },
      "outputs": [
        {
          "name": "stdin",
          "output_type": "stream",
          "text": [
            "Enter roll number 5\n",
            " Enter grade 6\n",
            " Enter percentage 7\n"
          ]
        },
        {
          "name": "stdout",
          "output_type": "stream",
          "text": [
            "  your roll no is 5 \n",
            "  your grade is 6 \n",
            " your percentage is 7 \n"
          ]
        }
      ],
      "source": [
        "rollnumber = int(input(\"Enter roll number\"))\n",
        "grade = int(input(\" Enter grade\"))\n",
        "percentage= int(input(\" Enter percentage\"))\n",
        "print(\"  your roll no is {} \\n  your grade is {} \\n your percentage is {} \".format(rollnumber,grade,percentage))"
      ]
    },
    {
      "cell_type": "markdown",
      "id": "12d47281-8d2c-4b4b-bcd2-0f40d6a5b5d8",
      "metadata": {
        "id": "12d47281-8d2c-4b4b-bcd2-0f40d6a5b5d8"
      },
      "source": [
        "4 Write a program that asks the user to enter his/her name and age. Print out a message , displaying the user’s name along with the year in which they will turn 100 years old."
      ]
    },
    {
      "cell_type": "code",
      "execution_count": null,
      "id": "56e99241-9ad3-4be8-9a09-81a3eb864b84",
      "metadata": {
        "id": "56e99241-9ad3-4be8-9a09-81a3eb864b84",
        "outputId": "0601dfff-7c63-4c98-f369-d3410294f206"
      },
      "outputs": [
        {
          "name": "stdin",
          "output_type": "stream",
          "text": [
            " Enter your Name  krish \n",
            " Enter your Age  35\n"
          ]
        },
        {
          "name": "stdout",
          "output_type": "stream",
          "text": [
            "name krish  and your age 35 , The year at which you will be 100 yr old is 2088\n"
          ]
        }
      ],
      "source": [
        "name = input(\" Enter your Name \")\n",
        "age = int(input(\" Enter your Age \"))\n",
        "year = 2023 + (100 - age)\n",
        "print(\"Name {} and your age {} , The year at which you will be 100 yr old is {}\".format(name,age,year))  "
      ]
    },
    {
      "cell_type": "markdown",
      "id": "0a1ae640-76d3-4d6b-992e-1860b0c2956f",
      "metadata": {
        "id": "0a1ae640-76d3-4d6b-992e-1860b0c2956f"
      },
      "source": [
        "5 Write a program that asks the user to input 2 integers and adds them . Accept both the numbers in a single line only\n"
      ]
    },
    {
      "cell_type": "code",
      "execution_count": null,
      "id": "b8ff16bd-ff7e-44ec-9a7c-bf37770b3234",
      "metadata": {
        "id": "b8ff16bd-ff7e-44ec-9a7c-bf37770b3234",
        "outputId": "1797ab79-d20a-476e-b53f-9f3b67af13ff"
      },
      "outputs": [
        {
          "name": "stdin",
          "output_type": "stream",
          "text": [
            " enter the number 5 6 \n"
          ]
        },
        {
          "name": "stdout",
          "output_type": "stream",
          "text": [
            "the num1 is 5 and num2 is 6 and there sum is 11\n"
          ]
        }
      ],
      "source": [
        "num1,num2 = (input(\" enter the number\").split()) \n",
        "print(\"the num1 is {} and num2 is {} and there sum is {}\".format(num1,num2,int(num1) + int(num2)))\n",
        "\n"
      ]
    },
    {
      "cell_type": "markdown",
      "id": "52efb74e-ed59-4022-b5bd-31a911ed1eb6",
      "metadata": {
        "id": "52efb74e-ed59-4022-b5bd-31a911ed1eb6"
      },
      "source": [
        "6 Write a Python program which accepts the user's first and last name and print them in reverse order with a space between them."
      ]
    },
    {
      "cell_type": "code",
      "execution_count": null,
      "id": "c4a0d6df-5bc1-4704-87bd-22d79092bacf",
      "metadata": {
        "id": "c4a0d6df-5bc1-4704-87bd-22d79092bacf",
        "outputId": "dd0ce030-caf1-4c16-c571-eb816be3573b"
      },
      "outputs": [
        {
          "name": "stdin",
          "output_type": "stream",
          "text": [
            " Enter your first name   power \n",
            " Enter your last name   ranger \n"
          ]
        },
        {
          "name": "stdout",
          "output_type": "stream",
          "text": [
            " regnar  rewop \n"
          ]
        }
      ],
      "source": [
        "first_name = input(\" Enter your first name \")\n",
        "last_name =  input(\" Enter your last name  \")\n",
        "final_name = first_name + \" \" + last_name \n",
        "print( final_name[::-1])"
      ]
    }
  ],
  "metadata": {
    "kernelspec": {
      "display_name": "Python 3 (ipykernel)",
      "language": "python",
      "name": "python3"
    },
    "language_info": {
      "codemirror_mode": {
        "name": "ipython",
        "version": 3
      },
      "file_extension": ".py",
      "mimetype": "text/x-python",
      "name": "python",
      "nbconvert_exporter": "python",
      "pygments_lexer": "ipython3",
      "version": "3.10.6"
    },
    "colab": {
      "provenance": []
    }
  },
  "nbformat": 4,
  "nbformat_minor": 5
}