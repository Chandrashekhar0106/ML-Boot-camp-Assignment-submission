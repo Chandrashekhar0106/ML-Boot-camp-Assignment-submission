{
  "nbformat": 4,
  "nbformat_minor": 0,
  "metadata": {
    "colab": {
      "provenance": []
    },
    "kernelspec": {
      "name": "python3",
      "display_name": "Python 3"
    },
    "language_info": {
      "name": "python"
    }
  },
  "cells": [
    {
      "cell_type": "code",
      "execution_count": 1,
      "metadata": {
        "colab": {
          "base_uri": "https://localhost:8080/"
        },
        "id": "MmNkkXYnWURI",
        "outputId": "cf1868fb-1a98-46fc-9197-9edc5bd58813"
      },
      "outputs": [
        {
          "output_type": "stream",
          "name": "stdout",
          "text": [
            "Hello Python\n"
          ]
        }
      ],
      "source": [
        "## 1 Write a Python program to print \"Hello Python\"?\n",
        "\n",
        "x=\"Hello Python\"\n",
        "print(x)"
      ]
    },
    {
      "cell_type": "code",
      "source": [
        "## 2. Write a Python program to do arithmetical operations addition and division.?\n",
        "\n",
        "a = 5 \n",
        "b = 8\n",
        "\n",
        "c = a+b\n",
        "\n",
        "d = a/b\n",
        "\n",
        "print(c)\n",
        "print(d)"
      ],
      "metadata": {
        "colab": {
          "base_uri": "https://localhost:8080/"
        },
        "id": "c7rTiR7ZW-WR",
        "outputId": "08dbe765-494e-4c69-ca63-0a2f877cd93d"
      },
      "execution_count": 3,
      "outputs": [
        {
          "output_type": "stream",
          "name": "stdout",
          "text": [
            "13\n",
            "0.625\n"
          ]
        }
      ]
    },
    {
      "cell_type": "code",
      "source": [
        "## 3 Write a Python program to find the area of a triangle?\n",
        "\n",
        "a = float(input(\"Enter side 1 \"))\n",
        "b= float(input(\"Enter side 2\"))\n",
        "c= float(input(\"Enter side 3\"))\n",
        "s=(a+b+c)/2\n",
        "area= (s*(s-a)*(s-b)*(s-c)) ** 0.5\n",
        "print(area)"
      ],
      "metadata": {
        "colab": {
          "base_uri": "https://localhost:8080/"
        },
        "id": "lFQ0RTOwXY9D",
        "outputId": "db143a54-f21d-43c9-dd3d-b8caa0c1b18b"
      },
      "execution_count": 9,
      "outputs": [
        {
          "output_type": "stream",
          "name": "stdout",
          "text": [
            "Enter side 1 5\n",
            "Enter side 26\n",
            "Enter side 37\n",
            "14.696938456699069\n"
          ]
        }
      ]
    },
    {
      "cell_type": "code",
      "source": [
        "## 4 Write a Python program to swap two variables?\n",
        "\n",
        "x= int(input(\"Enter num 1 \"))\n",
        "y= int(input(\"Enter num 2 \"))\n",
        "a = x\n",
        "x = y\n",
        "y = a\n",
        "print(x)\n",
        "print(y)"
      ],
      "metadata": {
        "colab": {
          "base_uri": "https://localhost:8080/"
        },
        "id": "GMBeFegXYsUN",
        "outputId": "f305a3ad-7143-4746-e617-b694d3342fca"
      },
      "execution_count": 16,
      "outputs": [
        {
          "output_type": "stream",
          "name": "stdout",
          "text": [
            "Enter num 1 5\n",
            "Enter num 2 6\n",
            "6\n",
            "5\n"
          ]
        }
      ]
    },
    {
      "cell_type": "code",
      "source": [
        "## 5 Write a Python program to generate a random number?\n",
        "\n",
        "import random\n",
        "\n",
        "print(random.randint(0,9))"
      ],
      "metadata": {
        "colab": {
          "base_uri": "https://localhost:8080/"
        },
        "id": "8QLPEaULaFpM",
        "outputId": "0815265c-a275-4098-e87d-f018bb72ee39"
      },
      "execution_count": 18,
      "outputs": [
        {
          "output_type": "stream",
          "name": "stdout",
          "text": [
            "8\n"
          ]
        }
      ]
    }
  ]
}